{
 "cells": [
  {
   "attachments": {},
   "cell_type": "markdown",
   "id": "0c47cc90",
   "metadata": {},
   "source": [
    "# Indivisual Project Proposal"
   ]
  },
  {
   "attachments": {},
   "cell_type": "markdown",
   "id": "5b7a59a0",
   "metadata": {},
   "source": [
    "Research Question: What is the impact of geographic location and preventive measures (e.g., mask-wearing, vaccination, social distancing) on the likelihood of contracting COVID-19?\n",
    "Explanation: This question explores how an individual’s geographic location (e.g., province) and their engagement in preventive measures influence COVID-19 risk. This analysis can provide insight into whether COVID-19 incidence varies by region and if specific behaviors reduce infection rates, potentially highlighting effective strategies for risk mitigation in various regions."
   ]
  },
  {
   "cell_type": "markdown",
   "id": "aa9a9671",
   "metadata": {},
   "source": [
    "Variables and Planned Expolration\n",
    "1. Geographic Location: Province-level data will be used to analyze the distribution of COVID-19 cases across regions.\n",
    "Geographic differences in COVID-19 incidence can reveal regional variations that may be influenced by population density and local policies. \n",
    "2. Preventive Measures: Analyze mask-wearing, vaccination status, social distancing, and physical distancing habits using bar charts and logistic regression models.\n",
    "Visualizing and modeling preventive behaviors will help quantify their effectiveness in reducing COVID-19 risk.\n",
    "3.\tInteraction Between Geography and Preventive Measures: Examine the combined effect of geographic location and preventive measures on COVID-19 risk (maybe certain areas were less populated and the preventive measures had less of an effect on the outcomes) using stratified bar plots or grouped visualizations."
   ]
  },
  {
   "cell_type": "markdown",
   "id": "bd4f5e40",
   "metadata": {},
   "source": [
    "Analysis Plan\n",
    "1.\tData Summarization\n",
    "2.\tVisualization:\n",
    "•\tGenerate bar plots to show the distribution of COVID-19 cases across provinces in Canada.\n",
    "•\tCreate additional bar charts to compare COVID-19 cases by preventive behaviors (e.g., vaccinated vs. unvaccinated, mask-wearers vs. non-mask-wearers).\n",
    "•\tUse grouped plots to explore the impact of preventive measures within each province, showing regional trends.\n",
    "3.\tHypothesis Testing:\n",
    "•\tTwo-Sample Hypothesis Test: Conduct tests (e.g., chi-square tests) to determine if COVID-19 incidence differs significantly by preventive behaviors.\n",
    "•\tComparing Geographic Impact: Test if certain provinces have significantly different COVID-19 case rates compared to others, adjusting for population if needed.\n",
    "4.\tBootstrapping for Confidence Intervals: Apply bootstrapping to create robust confidence intervals for the estimated effects of location and preventive behaviors on COVID-19 risk, particularly useful if sample sizes vary widely across regions or behaviors."
   ]
  },
  {
   "cell_type": "markdown",
   "id": "c644b03e",
   "metadata": {},
   "source": [
    "Hypotheses and Expected Outcomes\n",
    "Geographic Hypothesis: COVID-19 incidence will vary significantly across provinces, potentially due to local policies or population density differences.\n",
    "\n",
    "Preventive Measures Hypothesis: Individuals who practice preventive measures (e.g., mask-wearing, vaccination) will show lower COVID-19 incidence, highlighting the effectiveness of these measures.\n",
    "\n",
    "Combined Hypothesis: The effectiveness of preventive measures (e.g., mask-wearing, vaccination) in reducing COVID-19 incidence will vary by geographic location, with certain provinces showing a greater reduction in cases among those who engage in preventive behaviors."
   ]
  }
 ],
 "metadata": {
  "kernelspec": {
   "display_name": "Python 3 (ipykernel)",
   "language": "python",
   "name": "python3"
  },
  "language_info": {
   "codemirror_mode": {
    "name": "ipython",
    "version": 3
   },
   "file_extension": ".py",
   "mimetype": "text/x-python",
   "name": "python",
   "nbconvert_exporter": "python",
   "pygments_lexer": "ipython3",
   "version": "3.11.6"
  }
 },
 "nbformat": 4,
 "nbformat_minor": 5
}
