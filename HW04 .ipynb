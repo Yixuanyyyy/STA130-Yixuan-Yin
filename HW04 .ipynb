{
 "cells": [
  {
   "cell_type": "markdown",
   "id": "10438dc6",
   "metadata": {},
   "source": [
    "HW04"
   ]
  },
  {
   "cell_type": "markdown",
   "id": "cccaa23f",
   "metadata": {},
   "source": [
    "Marking Rubric (which may award partial credit)\n",
    "[0.1 points]: All relevant ChatBot summaries [including link(s) to chat log histories if you're using ChatGPT] are reported within the notebook\n",
    "[0.2 points]: Evaluation of correctness and effectiveness of written communication for Question \"1\"\n",
    "[0.3 points]: Evaluation of correctness and effectiveness of written communication for Question \"6\"\n",
    "[0.4 points]: Evaluation of submission for Question \"8\""
   ]
  },
  {
   "cell_type": "markdown",
   "id": "4e044e9a",
   "metadata": {},
   "source": [
    "1. The \"Pre-lecture\" video (above) mentioned the \"standard error of the mean\" as being the \"standard deviation\" of the distribution bootstrapped means. What is the difference between the \"standard error of the mean\" and the \"standard deviation\" of the original data? What distinct ideas do each of these capture? Explain this concisely in your own words."
   ]
  },
  {
   "cell_type": "markdown",
   "id": "ab114f0f",
   "metadata": {},
   "source": [
    "The \"standard error of the mean\" tells us how much the average from a sample is likely to vary from the true population average. It gives us an idea of how precise our estimate of the mean is.\n",
    "\n",
    "The \"standard deviation\" shows how spread out the individual data points are within a single sample. It’s a measure of the variation or dispersion in the data itself.\n",
    "\n",
    "So, while SD reflects the variability of the data, SEM reflects how confident we are about the sample mean being close to the population mean."
   ]
  },
  {
   "cell_type": "markdown",
   "id": "1ec7a21d",
   "metadata": {},
   "source": [
    "6. Provide written answers explaining the answers to the following questions in an informal manner of a conversation with a friend with little experience with statistics.\n",
    "What is the process of bootstrapping?\n",
    "What is the main purpose of bootstrapping?\n",
    "If you had a (hypothesized) guess about what the average of a population was, and you had a sample of size n from that population, how could you use bootstrapping to assess whether or not your (hypothesized) guess might be plausible?"
   ]
  },
  {
   "cell_type": "markdown",
   "id": "e37e869d",
   "metadata": {},
   "source": [
    "Bootstrapping is basically a way to get a better idea of the reliability of statistics, like averages, when you don’t have a lot of data. The process is pretty straightforward: you take your original sample of data, and then you repeatedly create new \"samples\" by randomly selecting data points from the original sample, but with replacement. This means that in each new sample, some data points might appear more than once, while others might not appear at all. Then, for each of these new samples, you calculate the statistic you’re interested in—like the mean—and this gives you a distribution of possible outcomes."
   ]
  },
  {
   "cell_type": "markdown",
   "id": "e75b4188",
   "metadata": {},
   "source": [
    "The main purpose of bootstrapping is to estimate the variability of a statistic, like the mean or median, without needing a huge sample size or making strict assumptions about the underlying population. It’s useful when you can’t rely on traditional methods or don’t have a ton of data."
   ]
  },
  {
   "cell_type": "markdown",
   "id": "dda4d8cf",
   "metadata": {},
   "source": [
    "If you have a guess about the population average and a sample of size n, you can use bootstrapping to test if your guess is reasonable. By creating many new samples from your original data and calculating the mean for each, you get a distribution of bootstrapped means. The standard error of the mean (SEM) tells you how much the sample mean is likely to vary from the true mean. If your guess falls within the range of bootstrapped means, especially within the SEM range, it’s likely plausible. If not, your guess is probably off."
   ]
  },
  {
   "cell_type": "markdown",
   "id": "8edd529c",
   "metadata": {},
   "source": [
    "8. Complete the following assignment.\n",
    "Vaccine Data Analysis Assignment"
   ]
  },
  {
   "cell_type": "markdown",
   "id": "86bace55",
   "metadata": {},
   "source": [
    "Null Hypothesis: The vaccine has no effect on the health of patients. (InitialHealthScore = FinalHealthScore)"
   ]
  },
  {
   "cell_type": "code",
   "execution_count": 1,
   "id": "9adeb9ce",
   "metadata": {},
   "outputs": [
    {
     "ename": "NameError",
     "evalue": "name 'df' is not defined",
     "output_type": "error",
     "traceback": [
      "\u001b[0;31m---------------------------------------------------------------------------\u001b[0m",
      "\u001b[0;31mNameError\u001b[0m                                 Traceback (most recent call last)",
      "Cell \u001b[0;32mIn[1], line 6\u001b[0m\n\u001b[1;32m      4\u001b[0m \u001b[38;5;66;03m# Plot the initial and final health scores\u001b[39;00m\n\u001b[1;32m      5\u001b[0m plt\u001b[38;5;241m.\u001b[39mfigure(figsize\u001b[38;5;241m=\u001b[39m(\u001b[38;5;241m10\u001b[39m, \u001b[38;5;241m6\u001b[39m))\n\u001b[0;32m----> 6\u001b[0m sns\u001b[38;5;241m.\u001b[39mboxplot(data\u001b[38;5;241m=\u001b[39m[\u001b[43mdf\u001b[49m[\u001b[38;5;124m'\u001b[39m\u001b[38;5;124mInitialHealthScore\u001b[39m\u001b[38;5;124m'\u001b[39m], df[\u001b[38;5;124m'\u001b[39m\u001b[38;5;124mFinalHealthScore\u001b[39m\u001b[38;5;124m'\u001b[39m]], showmeans\u001b[38;5;241m=\u001b[39m\u001b[38;5;28;01mTrue\u001b[39;00m)\n\u001b[1;32m      7\u001b[0m plt\u001b[38;5;241m.\u001b[39mxticks([\u001b[38;5;241m0\u001b[39m, \u001b[38;5;241m1\u001b[39m], [\u001b[38;5;124m'\u001b[39m\u001b[38;5;124mInitial Health Score\u001b[39m\u001b[38;5;124m'\u001b[39m, \u001b[38;5;124m'\u001b[39m\u001b[38;5;124mFinal Health Score\u001b[39m\u001b[38;5;124m'\u001b[39m])\n\u001b[1;32m      8\u001b[0m plt\u001b[38;5;241m.\u001b[39mylabel(\u001b[38;5;124m'\u001b[39m\u001b[38;5;124mHealth Score\u001b[39m\u001b[38;5;124m'\u001b[39m)\n",
      "\u001b[0;31mNameError\u001b[0m: name 'df' is not defined"
     ]
    },
    {
     "data": {
      "text/plain": [
       "<Figure size 1000x600 with 0 Axes>"
      ]
     },
     "metadata": {},
     "output_type": "display_data"
    }
   ],
   "source": [
    "import matplotlib.pyplot as plt\n",
    "import seaborn as sns\n",
    "\n",
    "# Plot the initial and final health scores\n",
    "plt.figure(figsize=(10, 6))\n",
    "sns.boxplot(data=[df['InitialHealthScore'], df['FinalHealthScore']], showmeans=True)\n",
    "plt.xticks([0, 1], ['Initial Health Score', 'Final Health Score'])\n",
    "plt.ylabel('Health Score')\n",
    "plt.title('Comparison of Initial and Final Health Scores')\n",
    "plt.show()\n"
   ]
  },
  {
   "cell_type": "code",
   "execution_count": 2,
   "id": "264b0043",
   "metadata": {},
   "outputs": [
    {
     "data": {
      "image/png": "[encoded data removed]",
      "text/plain": [
       "<Figure size 1000x600 with 1 Axes>"
      ]
     },
     "metadata": {},
     "output_type": "display_data"
    }
   ],
   "source": [
    "import pandas as pd\n",
    "import seaborn as sns\n",
    "import matplotlib.pyplot as plt\n",
    "\n",
    "# Data and DataFrame creation\n",
    "data = {\n",
    "    'PatientID': [1, 2, 3, 4, 5, 6, 7, 8, 9, 10],\n",
    "    'Age': [45, 34, 29, 52, 37, 41, 33, 48, 26, 39],\n",
    "    'Gender': ['M', 'F', 'M', 'F', 'M', 'F', 'M', 'F', 'M', 'F'],\n",
    "    'InitialHealthScore': [84, 78, 83, 81, 81, 80, 79, 85, 76, 83],\n",
    "    'FinalHealthScore': [86, 86, 80, 86, 84, 86, 86, 82, 83, 84]\n",
    "}\n",
    "df = pd.DataFrame(data)\n",
    "\n",
    "# Plot the initial and final health scores\n",
    "plt.figure(figsize=(10, 6))\n",
    "sns.boxplot(data=[df['InitialHealthScore'], df['FinalHealthScore']], showmeans=True)\n",
    "plt.xticks([0, 1], ['Initial Health Score', 'Final Health Score'])\n",
    "plt.ylabel('Health Score')\n",
    "plt.title('Comparison of Initial and Final Health Scores')\n",
    "plt.show()\n"
   ]
  },
  {
   "cell_type": "code",
   "execution_count": 3,
   "id": "9d0ef67b",
   "metadata": {},
   "outputs": [
    {
     "name": "stdout",
     "output_type": "stream",
     "text": [
      "Observed Mean Difference: 3.3\n",
      "p-value: 0.5324\n"
     ]
    }
   ],
   "source": [
    "import numpy as np\n",
    "\n",
    "# Compute the difference between Final and Initial Health Scores\n",
    "df['HealthScoreDifference'] = df['FinalHealthScore'] - df['InitialHealthScore']\n",
    "\n",
    "# Bootstrapping parameters\n",
    "n_iterations = 10000  # number of bootstrap samples\n",
    "np.random.seed(0)  # for reproducibility\n",
    "\n",
    "# Observed mean difference\n",
    "observed_diff = df['HealthScoreDifference'].mean()\n",
    "\n",
    "# Bootstrapping\n",
    "bootstrap_means = []\n",
    "for _ in range(n_iterations):\n",
    "    boot_sample = np.random.choice(df['HealthScoreDifference'], size=len(df), replace=True)\n",
    "    bootstrap_means.append(np.mean(boot_sample))\n",
    "\n",
    "# Calculate p-value: the proportion of times the bootstrapped mean is greater than or equal to the observed mean difference\n",
    "p_value = np.sum(np.array(bootstrap_means) >= observed_diff) / n_iterations\n",
    "\n",
    "print(f'Observed Mean Difference: {observed_diff}')\n",
    "print(f'p-value: {p_value}')\n"
   ]
  },
  {
   "cell_type": "markdown",
   "id": "9f2fa985",
   "metadata": {},
   "source": [
    "Findings: The bootstrapping analysis revealed a mean difference in health scores of 3.5 points after vaccination. The calculated p-value was 0.5324, indicating a lack of statistical significance.\n",
    "\n",
    "Discussion: Since the p-value exceeds the 0.05 threshold, we fail to reject the null hypothesis, suggesting insufficient evidence to support the vaccine's effectiveness in improving health scores within this sample. Although the observed mean difference of 3.5 points indicates a positive change, it is not statistically significant. The small sample size of 10 patients may limit the generalizability of these results and should be addressed in future studies. Additionally, factors such as age and initial health conditions could influence outcomes, highlighting the need for further research with larger cohorts and diverse populations to better assess the vaccine's impact."
   ]
  },
  {
   "cell_type": "markdown",
   "id": "4a092fa6",
   "metadata": {},
   "source": [
    "Here is a summary of my conversation with GPT: Here's a summary of our conversation regarding the Vaccine Data Analysis Assignment:\n",
    "\n",
    "Assignment Overview: You are tasked with analyzing data from a new vaccine developed by AliTech to determine its effectiveness, using techniques like bootstrapping.\n",
    "\n",
    "Data Provided: The dataset includes patient information with initial and final health scores.\n",
    "\n",
    "Analysis Approach:\n",
    "\n",
    "Null Hypothesis: The vaccine has no effect on health.\n",
    "Data Visualization: You can create visualizations, such as box plots, to compare initial and final health scores using libraries like Seaborn and Matplotlib.\n",
    "Quantitative Analysis: You’ll calculate the mean difference between health scores and perform bootstrapping to determine the significance of the results.\n",
    "Bootstrapping Code: I provided code for calculating the mean differences and bootstrapping analysis, including how to compute p-values.\n",
    "\n",
    "Execution Steps:\n",
    "\n",
    "First, import and visualize the data.\n",
    "Then, run the bootstrapping analysis to get numerical results for the mean difference and p-value.\n",
    "Results: You received numerical results for the mean difference and p-value but initially did not create visualizations for the bootstrapping results.\n",
    "\n",
    "Visualization Addition: I suggested adding a histogram of the bootstrapped means to visualize the distribution and better understand the significance of your observed results."
   ]
  },
  {
   "cell_type": "markdown",
   "id": "6d0450d8",
   "metadata": {},
   "source": [
    "https://chatgpt.com/share/66ff5b08-3a74-800c-ae35-ad356592c186"
   ]
  }
 ],
 "metadata": {
  "kernelspec": {
   "display_name": "Python 3 (ipykernel)",
   "language": "python",
   "name": "python3"
  },
  "language_info": {
   "codemirror_mode": {
    "name": "ipython",
    "version": 3
   },
   "file_extension": ".py",
   "mimetype": "text/x-python",
   "name": "python",
   "nbconvert_exporter": "python",
   "pygments_lexer": "ipython3",
   "version": "3.11.6"
  }
 },
 "nbformat": 4,
 "nbformat_minor": 5
}
